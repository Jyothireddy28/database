{
 "cells": [
  {
   "cell_type": "code",
   "execution_count": 1,
   "id": "4abf5b96-fb5b-4656-8553-a6575c33aa55",
   "metadata": {},
   "outputs": [
    {
     "name": "stdout",
     "output_type": "stream",
     "text": [
      "Collecting pyMySQL\n",
      "  Downloading PyMySQL-1.1.1-py3-none-any.whl.metadata (4.4 kB)\n",
      "Downloading PyMySQL-1.1.1-py3-none-any.whl (44 kB)\n",
      "Installing collected packages: pyMySQL\n",
      "Successfully installed pyMySQL-1.1.1\n",
      "Collecting ipython.sql\n",
      "  Downloading ipython_sql-0.5.0-py3-none-any.whl.metadata (17 kB)\n",
      "Collecting prettytable (from ipython.sql)\n",
      "  Downloading prettytable-3.12.0-py3-none-any.whl.metadata (30 kB)\n",
      "Requirement already satisfied: ipython in c:\\users\\jyothi reddy\\anaconda3\\anaconda\\lib\\site-packages (from ipython.sql) (8.27.0)\n",
      "Requirement already satisfied: sqlalchemy>=2.0 in c:\\users\\jyothi reddy\\anaconda3\\anaconda\\lib\\site-packages (from ipython.sql) (2.0.34)\n",
      "Collecting sqlparse (from ipython.sql)\n",
      "  Downloading sqlparse-0.5.3-py3-none-any.whl.metadata (3.9 kB)\n",
      "Requirement already satisfied: six in c:\\users\\jyothi reddy\\anaconda3\\anaconda\\lib\\site-packages (from ipython.sql) (1.16.0)\n",
      "Requirement already satisfied: ipython-genutils in c:\\users\\jyothi reddy\\anaconda3\\anaconda\\lib\\site-packages (from ipython.sql) (0.2.0)\n",
      "Requirement already satisfied: typing-extensions>=4.6.0 in c:\\users\\jyothi reddy\\anaconda3\\anaconda\\lib\\site-packages (from sqlalchemy>=2.0->ipython.sql) (4.11.0)\n",
      "Requirement already satisfied: greenlet!=0.4.17 in c:\\users\\jyothi reddy\\anaconda3\\anaconda\\lib\\site-packages (from sqlalchemy>=2.0->ipython.sql) (3.0.1)\n",
      "Requirement already satisfied: decorator in c:\\users\\jyothi reddy\\anaconda3\\anaconda\\lib\\site-packages (from ipython->ipython.sql) (5.1.1)\n",
      "Requirement already satisfied: jedi>=0.16 in c:\\users\\jyothi reddy\\anaconda3\\anaconda\\lib\\site-packages (from ipython->ipython.sql) (0.19.1)\n",
      "Requirement already satisfied: matplotlib-inline in c:\\users\\jyothi reddy\\anaconda3\\anaconda\\lib\\site-packages (from ipython->ipython.sql) (0.1.6)\n",
      "Requirement already satisfied: prompt-toolkit<3.1.0,>=3.0.41 in c:\\users\\jyothi reddy\\anaconda3\\anaconda\\lib\\site-packages (from ipython->ipython.sql) (3.0.43)\n",
      "Requirement already satisfied: pygments>=2.4.0 in c:\\users\\jyothi reddy\\anaconda3\\anaconda\\lib\\site-packages (from ipython->ipython.sql) (2.15.1)\n",
      "Requirement already satisfied: stack-data in c:\\users\\jyothi reddy\\anaconda3\\anaconda\\lib\\site-packages (from ipython->ipython.sql) (0.2.0)\n",
      "Requirement already satisfied: traitlets>=5.13.0 in c:\\users\\jyothi reddy\\anaconda3\\anaconda\\lib\\site-packages (from ipython->ipython.sql) (5.14.3)\n",
      "Requirement already satisfied: colorama in c:\\users\\jyothi reddy\\anaconda3\\anaconda\\lib\\site-packages (from ipython->ipython.sql) (0.4.6)\n",
      "Requirement already satisfied: wcwidth in c:\\users\\jyothi reddy\\anaconda3\\anaconda\\lib\\site-packages (from prettytable->ipython.sql) (0.2.5)\n",
      "Requirement already satisfied: parso<0.9.0,>=0.8.3 in c:\\users\\jyothi reddy\\anaconda3\\anaconda\\lib\\site-packages (from jedi>=0.16->ipython->ipython.sql) (0.8.3)\n",
      "Requirement already satisfied: executing in c:\\users\\jyothi reddy\\anaconda3\\anaconda\\lib\\site-packages (from stack-data->ipython->ipython.sql) (0.8.3)\n",
      "Requirement already satisfied: asttokens in c:\\users\\jyothi reddy\\anaconda3\\anaconda\\lib\\site-packages (from stack-data->ipython->ipython.sql) (2.0.5)\n",
      "Requirement already satisfied: pure-eval in c:\\users\\jyothi reddy\\anaconda3\\anaconda\\lib\\site-packages (from stack-data->ipython->ipython.sql) (0.2.2)\n",
      "Downloading ipython_sql-0.5.0-py3-none-any.whl (20 kB)\n",
      "Downloading prettytable-3.12.0-py3-none-any.whl (31 kB)\n",
      "Downloading sqlparse-0.5.3-py3-none-any.whl (44 kB)\n",
      "Installing collected packages: sqlparse, prettytable, ipython.sql\n",
      "Successfully installed ipython.sql-0.5.0 prettytable-3.12.0 sqlparse-0.5.3\n",
      "Collecting mysqlclient\n",
      "  Downloading mysqlclient-2.2.6-cp312-cp312-win_amd64.whl.metadata (4.8 kB)\n",
      "Downloading mysqlclient-2.2.6-cp312-cp312-win_amd64.whl (207 kB)\n",
      "Installing collected packages: mysqlclient\n",
      "Successfully installed mysqlclient-2.2.6\n"
     ]
    }
   ],
   "source": [
    "! pip install pyMySQL\n",
    "! pip install ipython.sql\n",
    "! pip install mysqlclient"
   ]
  },
  {
   "cell_type": "code",
   "execution_count": 7,
   "id": "83c7706d-7dca-4f6a-936a-f1faa866962f",
   "metadata": {},
   "outputs": [],
   "source": [
    "import pymysql "
   ]
  },
  {
   "cell_type": "code",
   "execution_count": 13,
   "id": "5d3e6088-04b5-4239-b43f-edaf1ba1e02a",
   "metadata": {},
   "outputs": [
    {
     "name": "stdout",
     "output_type": "stream",
     "text": [
      "connection successfull\n"
     ]
    }
   ],
   "source": [
    "db_name=\"warehouse\"\n",
    "db_host=\"localhost\"\n",
    "db_username=\"root\"\n",
    "db_password=\"JYO123@\"\n",
    "try:\n",
    "    conn=pymysql.connect(host=db_host,\n",
    "                         port=int(3306),\n",
    "                         user=\"root\",\n",
    "                         password=\"JYO123@\",\n",
    "                         db=db_name)\n",
    "except e:\n",
    "    print(e)\n",
    "if conn:\n",
    "    print(\"connection successfull\")\n",
    "else:\n",
    "   print(\"error\")"
   ]
  },
  {
   "cell_type": "code",
   "execution_count": 10,
   "id": "d45abb70-ac11-4fd4-bce0-2b0f88773a58",
   "metadata": {},
   "outputs": [
    {
     "data": {
      "text/plain": [
       "17"
      ]
     },
     "execution_count": 10,
     "metadata": {},
     "output_type": "execute_result"
    }
   ],
   "source": [
    "import pymysql\n",
    "mydb=pymysql.connect(host=\"localhost\",user=\"root\",password=\"JYO123@\")\n",
    "mycursor=mydb.cursor()\n",
    "mycursor.execute(\"show databases\")"
   ]
  },
  {
   "cell_type": "code",
   "execution_count": 14,
   "id": "84b20a2f-c339-4c39-9d39-cd23c15fc48c",
   "metadata": {},
   "outputs": [
    {
     "name": "stdout",
     "output_type": "stream",
     "text": [
      "Available Databases:\n",
      "1. accmaster\n",
      "2. bank\n",
      "3. employee\n",
      "4. information_schema\n",
      "5. institue\n",
      "6. institute\n",
      "7. items\n",
      "8. library\n",
      "9. management\n",
      "10. mysql\n",
      "11. performance_schema\n",
      "12. school\n",
      "13. schools\n",
      "14. student\n",
      "15. sys\n",
      "16. teachers\n",
      "17. warehouse\n"
     ]
    }
   ],
   "source": [
    "import pymysql\n",
    "\n",
    "try:\n",
    "    # Establishing the connection\n",
    "    conn = pymysql.connect(host=\"localhost\", user=\"root\", passwd=\"JYO123@\")\n",
    "    m1 = conn.cursor()\n",
    "    \n",
    "    # Executing the query\n",
    "    m1.execute(\"show databases\")\n",
    "    \n",
    "    print(\"Available Databases:\")\n",
    "    i = 1\n",
    "    for db in m1:\n",
    "        print(f\"{i}. {db[0]}\")\n",
    "        i += 1\n",
    "\n",
    "# Catching and printing the error\n",
    "except Exception as e:\n",
    "    print(f\"Error: {e}\")"
   ]
  },
  {
   "cell_type": "code",
   "execution_count": 1,
   "id": "ad6278e1-127a-4392-afa2-6940949729f0",
   "metadata": {},
   "outputs": [
    {
     "name": "stdout",
     "output_type": "stream",
     "text": [
      "connection successfull\n"
     ]
    }
   ],
   "source": [
    "import pymysql\n",
    "db_name=\"school\"\n",
    "db_host=\"localhost\"\n",
    "db_username=\"root\"\n",
    "db_password=\"JYO123@\"\n",
    "try:\n",
    "    conn=pymysql.connect(host=db_host,\n",
    "                         port=int(3306),\n",
    "                         user=\"root\",\n",
    "                         password=\"JYO123@\",\n",
    "                         db=db_name)\n",
    "except e:\n",
    "    print(e)\n",
    "if conn:\n",
    "    print(\"connection successfull\")\n",
    "else:\n",
    "   print(\"error\")"
   ]
  },
  {
   "cell_type": "code",
   "execution_count": 2,
   "id": "d8bb8fec-8b68-4b46-a5a1-2e7520dc66d8",
   "metadata": {},
   "outputs": [
    {
     "name": "stdout",
     "output_type": "stream",
     "text": [
      "(1046, 'No database selected')\n"
     ]
    }
   ],
   "source": [
    "import pymysql\n",
    "\n",
    "try:\n",
    "    conn = pymysql.connect(host=\"localhost\", user=\"root\", password=\"JYO123@\")\n",
    "    m1 = conn.cursor()\n",
    "    m1.execute(\"select * from school\")\n",
    "    print(\"School Database:\")\n",
    "    i = 1\n",
    "    for db in m1:\n",
    "        print(db[0])  \n",
    "        i += 1\n",
    "except Exception as e:  # Corrected syntax for exception handling\n",
    "    print(e)"
   ]
  },
  {
   "cell_type": "code",
   "execution_count": 4,
   "id": "4f471c8e-bb45-44ea-9a19-f69d605f7acb",
   "metadata": {},
   "outputs": [
    {
     "name": "stdout",
     "output_type": "stream",
     "text": [
      "connection successfull\n"
     ]
    }
   ],
   "source": [
    "import pymysql\n",
    "db_name=\"accmaster\"\n",
    "db_host=\"localhost\"\n",
    "db_username=\"root\"\n",
    "db_password=\"JYO123@\"\n",
    "try:\n",
    "    conn=pymysql.connect(host=db_host,\n",
    "                         port=int(3306),\n",
    "                         user=\"root\",\n",
    "                         password=\"JYO123@\",\n",
    "                         db=db_name)\n",
    "except e:\n",
    "    print(e)\n",
    "if conn:\n",
    "    print(\"connection successfull\")\n",
    "else:\n",
    "   print(\"error\")"
   ]
  },
  {
   "cell_type": "code",
   "execution_count": 5,
   "id": "2571f8ce-06f1-438a-a36f-91e9486a0b0c",
   "metadata": {},
   "outputs": [
    {
     "name": "stdout",
     "output_type": "stream",
     "text": [
      "AC001 kiran   10000.00\n",
      "AC002 ajay   5000.00\n",
      "AC003 suresh   12000.00\n",
      "AC004 kishore   6000.00\n",
      "AC005 amar   8000.00\n",
      "AC006 ravi   4000.00\n"
     ]
    }
   ],
   "source": [
    "mycursor=conn.cursor()\n",
    "mycursor.execute(\"select * from accmaster\")\n",
    "for x in mycursor:\n",
    "    print(x[0],x[1],' ',x[2])"
   ]
  },
  {
   "cell_type": "code",
   "execution_count": 6,
   "id": "e100d5e9-9086-43ca-a729-865c2836be74",
   "metadata": {},
   "outputs": [
    {
     "name": "stdout",
     "output_type": "stream",
     "text": [
      "connection successfull\n"
     ]
    },
    {
     "name": "stdin",
     "output_type": "stream",
     "text": [
      "enter regno 419\n",
      "enter name JYOTHI\n"
     ]
    }
   ],
   "source": [
    "import pymysql\n",
    "db_name=\"school\"\n",
    "db_host=\"localhost\"\n",
    "db_username=\"root\"\n",
    "db_password=\"JYO123@\"\n",
    "try:\n",
    "    conn=pymysql.connect(host=db_host,\n",
    "                         port=int(3306),\n",
    "                         user=\"root\",\n",
    "                         password=\"JYO123@\",\n",
    "                         db=db_name)\n",
    "except e:\n",
    "    print(e)\n",
    "if conn:\n",
    "    print(\"connection successfull\")\n",
    "else:\n",
    "   print(\"error\")\n",
    "mycursor=conn.cursor()\n",
    "regno=int(input(\"enter regno\"))\n",
    "na=input(\"enter name\")\n",
    "mycursor.execute(\"insert into school(regno,sname) values(\" + str(regno) + \",'\" + na + \" ')\")\n",
    "mycursor.execute(\"commit\");"
   ]
  },
  {
   "cell_type": "code",
   "execution_count": 7,
   "id": "c3c04060-db35-40b0-8a6b-e98939106a36",
   "metadata": {},
   "outputs": [
    {
     "name": "stdout",
     "output_type": "stream",
     "text": [
      "Connection successful\n"
     ]
    },
    {
     "name": "stdin",
     "output_type": "stream",
     "text": [
      "Enter Account Number:  101\n",
      "Enter Transaction Type (withdraw or deposit):  withdraw\n",
      "Enter Transaction Amount:  2000\n"
     ]
    },
    {
     "name": "stdout",
     "output_type": "stream",
     "text": [
      "Account number not found.\n"
     ]
    }
   ],
   "source": [
    "import pymysql\n",
    "db_name = \"accmaster\"\n",
    "db_host = \"localhost\"\n",
    "db_username = \"root\"\n",
    "db_password = \"JYO123@\"\n",
    "try:\n",
    "    conn = pymysql.connect(\n",
    "        host=db_host,\n",
    "        port=3306,\n",
    "        user=db_username,\n",
    "        password=db_password,\n",
    "        db=db_name\n",
    "    )\n",
    "except Exception as e:\n",
    "    print(f\"Error connecting to the database: {e}\")\n",
    "    conn = None\n",
    "\n",
    "if conn:\n",
    "    print(\"Connection successful\")\n",
    "else:\n",
    "    print(\"Error in connection\")\n",
    "    exit()\n",
    "\n",
    "try:\n",
    "    accmcursor = conn.cursor()\n",
    "    acctcursor = conn.cursor()\n",
    "    accmcursor.execute(\"SELECT accno, balance FROM accmaster\")\n",
    "    accounts = accmcursor.fetchall()\n",
    "    ano = input(\"Enter Account Number: \")\n",
    "    tty = input(\"Enter Transaction Type (withdraw or deposit): \").lower()\n",
    "    tamt = int(input(\"Enter Transaction Amount: \"))\n",
    "    flag = False\n",
    "    for acc in accounts:\n",
    "        if acc[0] == ano:\n",
    "            flag = True\n",
    "            bal = acc[1]\n",
    "            break\n",
    "    if flag:\n",
    "        if tty == \"deposit\":\n",
    "            bal += tamt\n",
    "        elif tty == \"withdraw\":\n",
    "            if tamt > bal:\n",
    "                print(\"Insufficient funds for withdrawal.\")\n",
    "                conn.close()\n",
    "                exit()\n",
    "            bal -= tamt\n",
    "        else:\n",
    "            print(\"Invalid transaction type.\")\n",
    "            conn.close()\n",
    "            exit()\n",
    "        sqlUpd = \"UPDATE accmaster SET balance = %s WHERE accno = %s\"\n",
    "        val = (bal, ano)\n",
    "        acctcursor.execute(sqlUpd, val)\n",
    "        conn.commit()\n",
    "        print(\"Transaction completed successfully.\")\n",
    "    else:\n",
    "        print(\"Account number not found.\")\n",
    "\n",
    "except Exception as e:\n",
    "    \n",
    "    print(f\"An error occurred: {e}\")\n",
    "    conn.rollback()\n",
    "finally:\n",
    "    \n",
    "    conn.close()"
   ]
  },
  {
   "cell_type": "code",
   "execution_count": 1,
   "id": "94122057-0bea-4bbb-8ddc-902755ffb442",
   "metadata": {},
   "outputs": [],
   "source": [
    "import pymysql\n",
    "db_name = \"Library\"\n",
    "db_host = \"localhost\"\n",
    "db_username = \"root\"\n",
    "db_password = \"JYO123@\"\n",
    "class DBConnection:\n",
    "    def _init_(self):\n",
    "        try:\n",
    "            self.conn = pymysql.connect(\n",
    "                host=db_host,\n",
    "                port=3306,\n",
    "                user=db_username,\n",
    "                password=db_password,\n",
    "                db=db_name\n",
    "            )\n",
    "            self.mycursor = self.conn.cursor()\n",
    "        except Exception as e:\n",
    "            print(f\"Error connecting to the database: {e}\")\n",
    "            self.conn = None\n",
    "            self.mycursor = None\n",
    "    def commit(self):\n",
    "        if self.conn:\n",
    "            self.conn.commit()\n",
    "    def close(self):\n",
    "        if self.conn:\n",
    "            self.conn.close()\n",
    "\n",
    "class Book(DBConnection):\n",
    "    def _init_(self):\n",
    "        super()._init_()\n",
    "\n",
    "    def setBook(self):\n",
    "        try:\n",
    "            self.book_id = int(input(\"Enter book ID: \"))\n",
    "            self.title = input(\"Enter title: \")\n",
    "            self.author = input(\"Enter author: \")\n",
    "            self.ISBN = int(input(\"Enter ISBN: \"))\n",
    "            self.status = input(\"Enter status: \")\n",
    "            self.mycursor.execute(\"INSERT INTO Book (book_id, title, author, ISBN, status) VALUES (%s, %s, %s, %s, %s)\",\n",
    "                                  (self.book_id, self.title, self.author, self.ISBN, self.status))\n",
    "            self.commit()\n",
    "            print(\"Book added successfully.\")\n",
    "        except Exception as e:\n",
    "            print(f\"Error inserting book: {e}\")\n",
    "\n",
    "    def getBook(self):\n",
    "        try:\n",
    "            self.mycursor.execute(\"SELECT * FROM Book\")\n",
    "            result = self.mycursor.fetchall()\n",
    "            for row in result:\n",
    "                print(row)\n",
    "        except Exception as e:\n",
    "            print(f\"Error fetching books: {e}\")\n",
    "class Members(DBConnection):\n",
    "    def _init_(self):\n",
    "        super()._init_()\n",
    "    def setMembers(self):\n",
    "        try:\n",
    "            self.name = input(\"Enter name: \")\n",
    "            self.member_id = input(\"Enter member ID: \")\n",
    "            self.email = input(\"Enter email: \")\n",
    "            self.borrowed_book = int(input(\"Enter number of borrowed books: \"))\n",
    "            self.mycursor.execute(\"INSERT INTO Members (name, member_id, email, borrowed_book) VALUES (%s, %s, %s, %s)\",\n",
    "                                  (self.name, self.member_id, self.email, self.borrowed_book))\n",
    "            self.commit()\n",
    "            print(\"Member added successfully.\")\n",
    "        except Exception as e:\n",
    "            print(f\"Error inserting member: {e}\")\n",
    "    def getMembers(self):\n",
    "        try:\n",
    "            self.mycursor.execute(\"SELECT * FROM Members\")\n",
    "            result = self.mycursor.fetchall()\n",
    "            for row in result:\n",
    "                print(row)\n",
    "        except Exception as e:\n",
    "            print(f\"Error fetching members: {e}\")\n",
    "class Staff(Members):\n",
    "    def _init_(self):\n",
    "        super()._init_()\n",
    "    def setStaff(self):\n",
    "        try:\n",
    "            self.staff_id = int(input(\"Enter staff ID: \"))\n",
    "            self.member_id = input(\"Enter member ID: \")\n",
    "            self.mycursor.execute(\"INSERT INTO Staff (staff_id, member_id) VALUES (%s, %s)\",\n",
    "                                  (self.staff_id, self.member_id))\n",
    "            self.commit()\n",
    "            print(\"Staff added successfully.\")\n",
    "        except Exception as e:\n",
    "            print(f\"Error inserting staff: {e}\")"
   ]
  },
  {
   "cell_type": "code",
   "execution_count": 2,
   "id": "dc912972-d6cf-4941-992d-4c2b571354de",
   "metadata": {},
   "outputs": [
    {
     "name": "stdin",
     "output_type": "stream",
     "text": [
      "Enter book ID:  101\n",
      "Enter title:  fairy tales\n",
      "Enter author:  jyothi\n",
      "Enter ISBN:  2101\n",
      "Enter status:  available\n"
     ]
    },
    {
     "name": "stdout",
     "output_type": "stream",
     "text": [
      "Error inserting book: 'Book' object has no attribute 'mycursor'\n",
      "Error fetching books: 'Book' object has no attribute 'mycursor'\n"
     ]
    },
    {
     "name": "stdin",
     "output_type": "stream",
     "text": [
      "Enter name:  jyothi\n",
      "Enter member ID:  2034\n",
      "Enter email:  jyothi@gmail\n",
      "Enter number of borrowed books:  2\n"
     ]
    },
    {
     "name": "stdout",
     "output_type": "stream",
     "text": [
      "Error inserting member: 'Members' object has no attribute 'mycursor'\n",
      "Error fetching members: 'Members' object has no attribute 'mycursor'\n"
     ]
    },
    {
     "name": "stdin",
     "output_type": "stream",
     "text": [
      "Enter staff ID:  301\n",
      "Enter member ID:  2033\n"
     ]
    },
    {
     "name": "stdout",
     "output_type": "stream",
     "text": [
      "Error inserting staff: 'Staff' object has no attribute 'mycursor'\n"
     ]
    },
    {
     "ename": "AttributeError",
     "evalue": "'Staff' object has no attribute 'getStaff'",
     "output_type": "error",
     "traceback": [
      "\u001b[1;31m---------------------------------------------------------------------------\u001b[0m",
      "\u001b[1;31mAttributeError\u001b[0m                            Traceback (most recent call last)",
      "Cell \u001b[1;32mIn[2], line 17\u001b[0m\n\u001b[0;32m     15\u001b[0m staff \u001b[38;5;241m=\u001b[39m Staff()\n\u001b[0;32m     16\u001b[0m staff\u001b[38;5;241m.\u001b[39msetStaff()\n\u001b[1;32m---> 17\u001b[0m staff\u001b[38;5;241m.\u001b[39mgetStaff()\n",
      "\u001b[1;31mAttributeError\u001b[0m: 'Staff' object has no attribute 'getStaff'"
     ]
    }
   ],
   "source": [
    "def getStaff(self):\n",
    "        try:\n",
    "            self.mycursor.execute(\"SELECT * FROM Staff\")\n",
    "            result = self.mycursor.fetchall()\n",
    "            for row in result:\n",
    "                print(row)\n",
    "        except Exception as e:\n",
    "            print(f\"Error fetching staff: {e}\")\n",
    "book = Book()\n",
    "book.setBook()\n",
    "book.getBook()\n",
    "member = Members()\n",
    "member.setMembers()\n",
    "member.getMembers()\n",
    "staff = Staff()\n",
    "staff.setStaff()\n",
    "staff.getStaff()"
   ]
  },
  {
   "cell_type": "code",
   "execution_count": 7,
   "id": "b7a73737-9a4c-4b67-904e-8cfa56930c6c",
   "metadata": {},
   "outputs": [
    {
     "name": "stdout",
     "output_type": "stream",
     "text": [
      "Executing query: SELECT e.*, d.dname FROM emp AS e JOIN dept AS d ON e.deptno = d.deptno WHERE job = %s AND dname = %s\n",
      "(Decimal('7698'), 'BLAKE', 'MANAGER', Decimal('7839'), datetime.date(1981, 5, 1), Decimal('2850.00'), None, Decimal('30'), 'SALES')\n"
     ]
    }
   ],
   "source": [
    "# Python and Mysql Combine Solutions\n",
    "import pymysql \n",
    "def select_query(table_name, conditions):\n",
    "    try:\n",
    "        mydb = pymysql.connect(\n",
    "            host=\"localhost\",\n",
    "            user=\"root\",\n",
    "            password=\"JYO123@\",\n",
    "            database=\"employee\"\n",
    "        )\n",
    "        mycursor = mydb.cursor()\n",
    "        sql_q = \"SELECT e.*, d.dname FROM \" + table_name + \" AS e JOIN dept AS d ON e.deptno = d.deptno\"\n",
    "        if conditions:\n",
    "            keys = []\n",
    "            values = []\n",
    "            for key, value in conditions.items():\n",
    "                keys.append(key + \" = %s\")\n",
    "                values.append(value)\n",
    "            \n",
    "            sql_q += \" WHERE \" + \" AND \".join(keys)\n",
    "        print(\"Executing query:\", sql_q)\n",
    "        mycursor.execute(sql_q, values)\n",
    "        results = mycursor.fetchall()\n",
    "        for x in results:\n",
    "            print(x)\n",
    "    \n",
    "    except pymysql.MySQLError as err:\n",
    "        print(\"Error: \", err)\n",
    "    # finally:\n",
    "    #     # Ensure the cursor and connection are closed\n",
    "    #     if mycursor:\n",
    "    #         mycursor.close()\n",
    "    #     if mydb:\n",
    "    #         mydb.close()\n",
    "select_query('emp', {'job': 'MANAGER', 'dname': 'SALES'})"
   ]
  },
  {
   "cell_type": "code",
   "execution_count": 8,
   "id": "e7dd7ee5-e7e8-4f54-9751-7e7777b790d2",
   "metadata": {},
   "outputs": [],
   "source": [
    "import pymysql\n",
    "employee_data = [\n",
    "    (10, 'Alice', 'Manager'),\n",
    "    (20, 'Bob', 'Engineer'),\n",
    "    (30, 'Charlie', 'HR'),\n",
    "    (40, 'David', 'Manager'),\n",
    "    (50, 'Eve', 'Engineer'),\n",
    "    (40, 'David', 'Manager')\n",
    "]\n",
    "def insert_details(employee_data):\n",
    "    try:\n",
    "        mydb =pymysql.connect(\n",
    "            host=\"localhost\",\n",
    "            user=\"root\",\n",
    "            password=\"JYO123@\",\n",
    "            database=\"employee\"\n",
    "        )\n",
    "        mycursor = mydb.cursor()\n",
    "        sql=\"select * from emp\"\n",
    "        sqlINS=\"insert into emp(deptno,ename,job) values(%s,%s,%s)\"\n",
    "        for x in employee_data:\n",
    "            mycursor.execute(sqlINS,x)\n",
    "            mydb.commit()\n",
    "        print(\"rows are inserted successfully\")\n",
    "    except:\n",
    "        pass\n",
    "insert_details(employee_data)\n"
   ]
  },
  {
   "cell_type": "code",
   "execution_count": 10,
   "id": "84841e96-bb7f-4eb9-8998-49e18d9a4bcd",
   "metadata": {},
   "outputs": [
    {
     "name": "stdout",
     "output_type": "stream",
     "text": [
      "('PRESIDENT', Decimal('5000.000000'))\n",
      "('ANALYST', Decimal('3000.000000'))\n",
      "('MANAGER', Decimal('2758.333333'))\n"
     ]
    }
   ],
   "source": [
    "import pymysql\n",
    "def select_query(table_name):\n",
    "    try:\n",
    "        mydb =pymysql.connect(\n",
    "            host=\"localhost\",\n",
    "            user=\"root\",\n",
    "            password=\"JYO123@\",\n",
    "            database=\"employee\"\n",
    "        )\n",
    "        mycursor = mydb.cursor()\n",
    "        sql_query=\"\"\" SELECT job, AVG(sal) AS average_salary FROM \"\"\"+table_name+\"\"\"\n",
    "        GROUP BY job \n",
    "        ORDER BY average_salary DESC \n",
    "        LIMIT 3;\"\"\"\n",
    "        mycursor.execute(sql_query)\n",
    "        results=mycursor.fetchall()\n",
    "        for x in results:\n",
    "            print(x)\n",
    "    except:\n",
    "        pass\n",
    "    finally:\n",
    "        mycursor.close()\n",
    "        mydb.close()\n",
    "select_query(\"emp\")\n"
   ]
  },
  {
   "cell_type": "code",
   "execution_count": null,
   "id": "56082772-fb0f-465a-9b02-5e7bcf7c6ff1",
   "metadata": {},
   "outputs": [],
   "source": []
  }
 ],
 "metadata": {
  "kernelspec": {
   "display_name": "Python 3 (ipykernel)",
   "language": "python",
   "name": "python3"
  },
  "language_info": {
   "codemirror_mode": {
    "name": "ipython",
    "version": 3
   },
   "file_extension": ".py",
   "mimetype": "text/x-python",
   "name": "python",
   "nbconvert_exporter": "python",
   "pygments_lexer": "ipython3",
   "version": "3.12.7"
  }
 },
 "nbformat": 4,
 "nbformat_minor": 5
}
